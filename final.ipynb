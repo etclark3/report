{
 "cells": [
  {
   "cell_type": "markdown",
   "id": "922993d1",
   "metadata": {},
   "source": [
    "<img src=\"https://199lj33nqk3p88xz03dvn481-wpengine.netdna-ssl.com/wp-content/uploads/2021/08/CodeupFullColorLogo.png\" />"
   ]
  },
  {
   "cell_type": "markdown",
   "id": "8bca83d0",
   "metadata": {},
   "source": [
    "---"
   ]
  },
  {
   "cell_type": "markdown",
   "id": "bcc381f0",
   "metadata": {},
   "source": [
    "# <center> Looking at Codeup Logs </center>"
   ]
  },
  {
   "cell_type": "markdown",
   "id": "bf33cbb0",
   "metadata": {},
   "source": [
    "---"
   ]
  },
  {
   "cell_type": "markdown",
   "id": "747ffde7",
   "metadata": {},
   "source": [
    "## Questions to Explore:"
   ]
  },
  {
   "cell_type": "markdown",
   "id": "eb9c05a6",
   "metadata": {},
   "source": [
    "#### 1. Which lesson appears to attract the most traffic consistently across cohorts (per program)?\n",
    "#### 2. Is there a cohort that referred to a lesson significantly more than other cohorts seemed to gloss over?\n",
    "#### 3. Are there students who, when active, hardly access the curriculum? If so, what information do you have about these students?\n",
    "#### 4. Is there any suspicious activity, such as users/machines/etc accessing the curriculum who shouldn’t be? Does it appear that any web-scraping is happening? Are there any suspicious IP addresses?\n",
    "#### 5. At some point in 2019, the ability for students and alumni to access both curriculums (web dev to ds, ds to web dev) should have been shut off. Do you see any evidence of that happening? Did it happen before?\n",
    "#### 6. What topics are grads continuing to reference after graduation and into their jobs (for each program)?\n",
    "#### 7. Which lessons are least accessed? \n",
    "#### 8. Are there any additional insights?"
   ]
  },
  {
   "cell_type": "markdown",
   "id": "8606620c",
   "metadata": {},
   "source": [
    "---"
   ]
  },
  {
   "cell_type": "markdown",
   "id": "3918caac",
   "metadata": {},
   "source": [
    "## Imports: "
   ]
  },
  {
   "cell_type": "code",
   "execution_count": 1,
   "id": "469792ae",
   "metadata": {},
   "outputs": [],
   "source": [
    "# For visualization\n",
    "import matplotlib.pyplot as plt\n",
    "import seaborn as sns\n",
    "\n",
    "# Standar imports\n",
    "import numpy as np\n",
    "import pandas as pd\n",
    "\n",
    "from datetime import datetime\n",
    "\n",
    "from env import user, password, host\n",
    "from wrangle import get_db_url, ds_pop, most_pop, prep_cohort\n",
    "from sklearn import metrics"
   ]
  },
  {
   "cell_type": "markdown",
   "id": "fc582b03",
   "metadata": {},
   "source": [
    "---"
   ]
  },
  {
   "cell_type": "markdown",
   "id": "d24b2e0a",
   "metadata": {},
   "source": [
    "## Acquire the Data:"
   ]
  },
  {
   "cell_type": "code",
   "execution_count": 2,
   "id": "2bcaaca9",
   "metadata": {
    "scrolled": false
   },
   "outputs": [
    {
     "data": {
      "text/html": [
       "<div>\n",
       "<style scoped>\n",
       "    .dataframe tbody tr th:only-of-type {\n",
       "        vertical-align: middle;\n",
       "    }\n",
       "\n",
       "    .dataframe tbody tr th {\n",
       "        vertical-align: top;\n",
       "    }\n",
       "\n",
       "    .dataframe thead th {\n",
       "        text-align: right;\n",
       "    }\n",
       "</style>\n",
       "<table border=\"1\" class=\"dataframe\">\n",
       "  <thead>\n",
       "    <tr style=\"text-align: right;\">\n",
       "      <th></th>\n",
       "      <th>date</th>\n",
       "      <th>time</th>\n",
       "      <th>page</th>\n",
       "      <th>id</th>\n",
       "      <th>cohort</th>\n",
       "      <th>ip</th>\n",
       "    </tr>\n",
       "  </thead>\n",
       "  <tbody>\n",
       "    <tr>\n",
       "      <th>0</th>\n",
       "      <td>2018-01-26</td>\n",
       "      <td>09:55:03</td>\n",
       "      <td>/</td>\n",
       "      <td>1</td>\n",
       "      <td>8.0</td>\n",
       "      <td>97.105.19.61</td>\n",
       "    </tr>\n",
       "    <tr>\n",
       "      <th>1</th>\n",
       "      <td>2018-01-26</td>\n",
       "      <td>09:56:02</td>\n",
       "      <td>java-ii</td>\n",
       "      <td>1</td>\n",
       "      <td>8.0</td>\n",
       "      <td>97.105.19.61</td>\n",
       "    </tr>\n",
       "    <tr>\n",
       "      <th>2</th>\n",
       "      <td>2018-01-26</td>\n",
       "      <td>09:56:05</td>\n",
       "      <td>java-ii/object-oriented-programming</td>\n",
       "      <td>1</td>\n",
       "      <td>8.0</td>\n",
       "      <td>97.105.19.61</td>\n",
       "    </tr>\n",
       "    <tr>\n",
       "      <th>3</th>\n",
       "      <td>2018-01-26</td>\n",
       "      <td>09:56:06</td>\n",
       "      <td>slides/object_oriented_programming</td>\n",
       "      <td>1</td>\n",
       "      <td>8.0</td>\n",
       "      <td>97.105.19.61</td>\n",
       "    </tr>\n",
       "    <tr>\n",
       "      <th>4</th>\n",
       "      <td>2018-01-26</td>\n",
       "      <td>09:56:24</td>\n",
       "      <td>javascript-i/conditionals</td>\n",
       "      <td>2</td>\n",
       "      <td>22.0</td>\n",
       "      <td>97.105.19.61</td>\n",
       "    </tr>\n",
       "    <tr>\n",
       "      <th>...</th>\n",
       "      <td>...</td>\n",
       "      <td>...</td>\n",
       "      <td>...</td>\n",
       "      <td>...</td>\n",
       "      <td>...</td>\n",
       "      <td>...</td>\n",
       "    </tr>\n",
       "    <tr>\n",
       "      <th>900218</th>\n",
       "      <td>2021-04-21</td>\n",
       "      <td>16:41:51</td>\n",
       "      <td>jquery/personal-site</td>\n",
       "      <td>64</td>\n",
       "      <td>28.0</td>\n",
       "      <td>71.150.217.33</td>\n",
       "    </tr>\n",
       "    <tr>\n",
       "      <th>900219</th>\n",
       "      <td>2021-04-21</td>\n",
       "      <td>16:42:02</td>\n",
       "      <td>jquery/mapbox-api</td>\n",
       "      <td>64</td>\n",
       "      <td>28.0</td>\n",
       "      <td>71.150.217.33</td>\n",
       "    </tr>\n",
       "    <tr>\n",
       "      <th>900220</th>\n",
       "      <td>2021-04-21</td>\n",
       "      <td>16:42:09</td>\n",
       "      <td>jquery/ajax/weather-map</td>\n",
       "      <td>64</td>\n",
       "      <td>28.0</td>\n",
       "      <td>71.150.217.33</td>\n",
       "    </tr>\n",
       "    <tr>\n",
       "      <th>900221</th>\n",
       "      <td>2021-04-21</td>\n",
       "      <td>16:44:37</td>\n",
       "      <td>anomaly-detection/discrete-probabilistic-methods</td>\n",
       "      <td>744</td>\n",
       "      <td>28.0</td>\n",
       "      <td>24.160.137.86</td>\n",
       "    </tr>\n",
       "    <tr>\n",
       "      <th>900222</th>\n",
       "      <td>2021-04-21</td>\n",
       "      <td>16:44:39</td>\n",
       "      <td>jquery/mapbox-api</td>\n",
       "      <td>64</td>\n",
       "      <td>28.0</td>\n",
       "      <td>71.150.217.33</td>\n",
       "    </tr>\n",
       "  </tbody>\n",
       "</table>\n",
       "<p>900223 rows × 6 columns</p>\n",
       "</div>"
      ],
      "text/plain": [
       "              date      time  \\\n",
       "0       2018-01-26  09:55:03   \n",
       "1       2018-01-26  09:56:02   \n",
       "2       2018-01-26  09:56:05   \n",
       "3       2018-01-26  09:56:06   \n",
       "4       2018-01-26  09:56:24   \n",
       "...            ...       ...   \n",
       "900218  2021-04-21  16:41:51   \n",
       "900219  2021-04-21  16:42:02   \n",
       "900220  2021-04-21  16:42:09   \n",
       "900221  2021-04-21  16:44:37   \n",
       "900222  2021-04-21  16:44:39   \n",
       "\n",
       "                                                    page   id  cohort  \\\n",
       "0                                                      /    1     8.0   \n",
       "1                                                java-ii    1     8.0   \n",
       "2                    java-ii/object-oriented-programming    1     8.0   \n",
       "3                     slides/object_oriented_programming    1     8.0   \n",
       "4                              javascript-i/conditionals    2    22.0   \n",
       "...                                                  ...  ...     ...   \n",
       "900218                              jquery/personal-site   64    28.0   \n",
       "900219                                 jquery/mapbox-api   64    28.0   \n",
       "900220                           jquery/ajax/weather-map   64    28.0   \n",
       "900221  anomaly-detection/discrete-probabilistic-methods  744    28.0   \n",
       "900222                                 jquery/mapbox-api   64    28.0   \n",
       "\n",
       "                   ip  \n",
       "0        97.105.19.61  \n",
       "1        97.105.19.61  \n",
       "2        97.105.19.61  \n",
       "3        97.105.19.61  \n",
       "4        97.105.19.61  \n",
       "...               ...  \n",
       "900218  71.150.217.33  \n",
       "900219  71.150.217.33  \n",
       "900220  71.150.217.33  \n",
       "900221  24.160.137.86  \n",
       "900222  71.150.217.33  \n",
       "\n",
       "[900223 rows x 6 columns]"
      ]
     },
     "execution_count": 2,
     "metadata": {},
     "output_type": "execute_result"
    }
   ],
   "source": [
    "# Activity among students and staff\n",
    "df = pd.read_csv('anonymized-curriculum-access.txt', sep=\" \", header=None,\n",
    "                  names = ['date', 'time', 'page', 'id', 'cohort', 'ip'])\n",
    "df"
   ]
  },
  {
   "cell_type": "code",
   "execution_count": 3,
   "id": "e76b553e",
   "metadata": {},
   "outputs": [
    {
     "name": "stdout",
     "output_type": "stream",
     "text": [
      "Length: 53\n"
     ]
    },
    {
     "data": {
      "text/html": [
       "<div>\n",
       "<style scoped>\n",
       "    .dataframe tbody tr th:only-of-type {\n",
       "        vertical-align: middle;\n",
       "    }\n",
       "\n",
       "    .dataframe tbody tr th {\n",
       "        vertical-align: top;\n",
       "    }\n",
       "\n",
       "    .dataframe thead th {\n",
       "        text-align: right;\n",
       "    }\n",
       "</style>\n",
       "<table border=\"1\" class=\"dataframe\">\n",
       "  <thead>\n",
       "    <tr style=\"text-align: right;\">\n",
       "      <th></th>\n",
       "      <th>id</th>\n",
       "      <th>name</th>\n",
       "      <th>slack</th>\n",
       "      <th>start_date</th>\n",
       "      <th>end_date</th>\n",
       "      <th>created_at</th>\n",
       "      <th>updated_at</th>\n",
       "      <th>deleted_at</th>\n",
       "      <th>program_id</th>\n",
       "    </tr>\n",
       "  </thead>\n",
       "  <tbody>\n",
       "    <tr>\n",
       "      <th>0</th>\n",
       "      <td>1</td>\n",
       "      <td>Arches</td>\n",
       "      <td>#arches</td>\n",
       "      <td>2014-02-04</td>\n",
       "      <td>2014-04-22</td>\n",
       "      <td>2016-06-14 19:52:26</td>\n",
       "      <td>2016-06-14 19:52:26</td>\n",
       "      <td>None</td>\n",
       "      <td>1</td>\n",
       "    </tr>\n",
       "    <tr>\n",
       "      <th>1</th>\n",
       "      <td>2</td>\n",
       "      <td>Badlands</td>\n",
       "      <td>#badlands</td>\n",
       "      <td>2014-06-04</td>\n",
       "      <td>2014-08-22</td>\n",
       "      <td>2016-06-14 19:52:26</td>\n",
       "      <td>2016-06-14 19:52:26</td>\n",
       "      <td>None</td>\n",
       "      <td>1</td>\n",
       "    </tr>\n",
       "    <tr>\n",
       "      <th>2</th>\n",
       "      <td>3</td>\n",
       "      <td>Carlsbad</td>\n",
       "      <td>#carlsbad</td>\n",
       "      <td>2014-09-04</td>\n",
       "      <td>2014-11-05</td>\n",
       "      <td>2016-06-14 19:52:26</td>\n",
       "      <td>2016-06-14 19:52:26</td>\n",
       "      <td>None</td>\n",
       "      <td>1</td>\n",
       "    </tr>\n",
       "    <tr>\n",
       "      <th>3</th>\n",
       "      <td>4</td>\n",
       "      <td>Denali</td>\n",
       "      <td>#denali</td>\n",
       "      <td>2014-10-20</td>\n",
       "      <td>2015-01-18</td>\n",
       "      <td>2016-06-14 19:52:26</td>\n",
       "      <td>2016-06-14 19:52:26</td>\n",
       "      <td>None</td>\n",
       "      <td>1</td>\n",
       "    </tr>\n",
       "    <tr>\n",
       "      <th>4</th>\n",
       "      <td>5</td>\n",
       "      <td>Everglades</td>\n",
       "      <td>#everglades</td>\n",
       "      <td>2014-11-18</td>\n",
       "      <td>2015-02-24</td>\n",
       "      <td>2016-06-14 19:52:26</td>\n",
       "      <td>2016-06-14 19:52:26</td>\n",
       "      <td>None</td>\n",
       "      <td>1</td>\n",
       "    </tr>\n",
       "  </tbody>\n",
       "</table>\n",
       "</div>"
      ],
      "text/plain": [
       "   id        name        slack  start_date    end_date           created_at  \\\n",
       "0   1      Arches      #arches  2014-02-04  2014-04-22  2016-06-14 19:52:26   \n",
       "1   2    Badlands    #badlands  2014-06-04  2014-08-22  2016-06-14 19:52:26   \n",
       "2   3    Carlsbad    #carlsbad  2014-09-04  2014-11-05  2016-06-14 19:52:26   \n",
       "3   4      Denali      #denali  2014-10-20  2015-01-18  2016-06-14 19:52:26   \n",
       "4   5  Everglades  #everglades  2014-11-18  2015-02-24  2016-06-14 19:52:26   \n",
       "\n",
       "            updated_at deleted_at  program_id  \n",
       "0  2016-06-14 19:52:26       None           1  \n",
       "1  2016-06-14 19:52:26       None           1  \n",
       "2  2016-06-14 19:52:26       None           1  \n",
       "3  2016-06-14 19:52:26       None           1  \n",
       "4  2016-06-14 19:52:26       None           1  "
      ]
     },
     "execution_count": 3,
     "metadata": {},
     "output_type": "execute_result"
    }
   ],
   "source": [
    "# Further Cohort Information\n",
    "df2 = pd.read_sql('''select * from cohorts''', get_db_url(user, host, password, 'curriculum_logs'))\n",
    "print(f'Length: {len(df2)}')\n",
    "df2.head()"
   ]
  },
  {
   "cell_type": "markdown",
   "id": "a265288c",
   "metadata": {},
   "source": [
    "## Exploration:"
   ]
  },
  {
   "cell_type": "code",
   "execution_count": 4,
   "id": "7df58e93",
   "metadata": {
    "scrolled": true
   },
   "outputs": [
    {
     "name": "stdout",
     "output_type": "stream",
     "text": [
      "<class 'pandas.core.frame.DataFrame'>\n",
      "RangeIndex: 900223 entries, 0 to 900222\n",
      "Data columns (total 6 columns):\n",
      " #   Column  Non-Null Count   Dtype  \n",
      "---  ------  --------------   -----  \n",
      " 0   date    900223 non-null  object \n",
      " 1   time    900223 non-null  object \n",
      " 2   page    900222 non-null  object \n",
      " 3   id      900223 non-null  int64  \n",
      " 4   cohort  847330 non-null  float64\n",
      " 5   ip      900223 non-null  object \n",
      "dtypes: float64(1), int64(1), object(4)\n",
      "memory usage: 41.2+ MB\n"
     ]
    }
   ],
   "source": [
    "# Look at our information\n",
    "df.info(show_counts=True)"
   ]
  },
  {
   "cell_type": "code",
   "execution_count": 5,
   "id": "a836acd0",
   "metadata": {
    "scrolled": true
   },
   "outputs": [
    {
     "name": "stdout",
     "output_type": "stream",
     "text": [
      "52893\n"
     ]
    },
    {
     "data": {
      "text/html": [
       "<div>\n",
       "<style scoped>\n",
       "    .dataframe tbody tr th:only-of-type {\n",
       "        vertical-align: middle;\n",
       "    }\n",
       "\n",
       "    .dataframe tbody tr th {\n",
       "        vertical-align: top;\n",
       "    }\n",
       "\n",
       "    .dataframe thead th {\n",
       "        text-align: right;\n",
       "    }\n",
       "</style>\n",
       "<table border=\"1\" class=\"dataframe\">\n",
       "  <thead>\n",
       "    <tr style=\"text-align: right;\">\n",
       "      <th></th>\n",
       "      <th>date</th>\n",
       "      <th>time</th>\n",
       "      <th>page</th>\n",
       "      <th>id</th>\n",
       "      <th>cohort</th>\n",
       "      <th>ip</th>\n",
       "    </tr>\n",
       "  </thead>\n",
       "  <tbody>\n",
       "    <tr>\n",
       "      <th>411</th>\n",
       "      <td>2018-01-26</td>\n",
       "      <td>16:46:16</td>\n",
       "      <td>/</td>\n",
       "      <td>48</td>\n",
       "      <td>NaN</td>\n",
       "      <td>97.105.19.61</td>\n",
       "    </tr>\n",
       "    <tr>\n",
       "      <th>412</th>\n",
       "      <td>2018-01-26</td>\n",
       "      <td>16:46:24</td>\n",
       "      <td>spring/extra-features/form-validation</td>\n",
       "      <td>48</td>\n",
       "      <td>NaN</td>\n",
       "      <td>97.105.19.61</td>\n",
       "    </tr>\n",
       "    <tr>\n",
       "      <th>425</th>\n",
       "      <td>2018-01-26</td>\n",
       "      <td>17:54:24</td>\n",
       "      <td>/</td>\n",
       "      <td>48</td>\n",
       "      <td>NaN</td>\n",
       "      <td>97.105.19.61</td>\n",
       "    </tr>\n",
       "    <tr>\n",
       "      <th>435</th>\n",
       "      <td>2018-01-26</td>\n",
       "      <td>18:32:03</td>\n",
       "      <td>/</td>\n",
       "      <td>48</td>\n",
       "      <td>NaN</td>\n",
       "      <td>97.105.19.61</td>\n",
       "    </tr>\n",
       "    <tr>\n",
       "      <th>436</th>\n",
       "      <td>2018-01-26</td>\n",
       "      <td>18:32:17</td>\n",
       "      <td>mysql/relationships/joins</td>\n",
       "      <td>48</td>\n",
       "      <td>NaN</td>\n",
       "      <td>97.105.19.61</td>\n",
       "    </tr>\n",
       "  </tbody>\n",
       "</table>\n",
       "</div>"
      ],
      "text/plain": [
       "           date      time                                   page  id  cohort  \\\n",
       "411  2018-01-26  16:46:16                                      /  48     NaN   \n",
       "412  2018-01-26  16:46:24  spring/extra-features/form-validation  48     NaN   \n",
       "425  2018-01-26  17:54:24                                      /  48     NaN   \n",
       "435  2018-01-26  18:32:03                                      /  48     NaN   \n",
       "436  2018-01-26  18:32:17              mysql/relationships/joins  48     NaN   \n",
       "\n",
       "               ip  \n",
       "411  97.105.19.61  \n",
       "412  97.105.19.61  \n",
       "425  97.105.19.61  \n",
       "435  97.105.19.61  \n",
       "436  97.105.19.61  "
      ]
     },
     "execution_count": 5,
     "metadata": {},
     "output_type": "execute_result"
    }
   ],
   "source": [
    "# Looking where null values lie\n",
    "print(len(df[df.cohort.isnull()]))\n",
    "df[df.cohort.isnull()].head()"
   ]
  },
  {
   "cell_type": "markdown",
   "id": "384db980",
   "metadata": {},
   "source": [
    "#### These won't be dropped as they won't affect the exploration needed to be done on individual cohorts"
   ]
  },
  {
   "cell_type": "code",
   "execution_count": 6,
   "id": "e0930f1e",
   "metadata": {
    "scrolled": true
   },
   "outputs": [
    {
     "data": {
      "text/html": [
       "<div>\n",
       "<style scoped>\n",
       "    .dataframe tbody tr th:only-of-type {\n",
       "        vertical-align: middle;\n",
       "    }\n",
       "\n",
       "    .dataframe tbody tr th {\n",
       "        vertical-align: top;\n",
       "    }\n",
       "\n",
       "    .dataframe thead th {\n",
       "        text-align: right;\n",
       "    }\n",
       "</style>\n",
       "<table border=\"1\" class=\"dataframe\">\n",
       "  <thead>\n",
       "    <tr style=\"text-align: right;\">\n",
       "      <th></th>\n",
       "      <th>date</th>\n",
       "      <th>time</th>\n",
       "      <th>page</th>\n",
       "      <th>id</th>\n",
       "      <th>cohort</th>\n",
       "    </tr>\n",
       "    <tr>\n",
       "      <th>ip</th>\n",
       "      <th></th>\n",
       "      <th></th>\n",
       "      <th></th>\n",
       "      <th></th>\n",
       "      <th></th>\n",
       "    </tr>\n",
       "  </thead>\n",
       "  <tbody>\n",
       "    <tr>\n",
       "      <th>97.105.19.58</th>\n",
       "      <td>284579</td>\n",
       "      <td>284579</td>\n",
       "      <td>284579</td>\n",
       "      <td>284579</td>\n",
       "      <td>268648</td>\n",
       "    </tr>\n",
       "    <tr>\n",
       "      <th>97.105.19.61</th>\n",
       "      <td>61662</td>\n",
       "      <td>61662</td>\n",
       "      <td>61662</td>\n",
       "      <td>61662</td>\n",
       "      <td>60530</td>\n",
       "    </tr>\n",
       "    <tr>\n",
       "      <th>192.171.117.210</th>\n",
       "      <td>9515</td>\n",
       "      <td>9515</td>\n",
       "      <td>9515</td>\n",
       "      <td>9515</td>\n",
       "      <td>9124</td>\n",
       "    </tr>\n",
       "    <tr>\n",
       "      <th>71.150.217.33</th>\n",
       "      <td>6791</td>\n",
       "      <td>6791</td>\n",
       "      <td>6791</td>\n",
       "      <td>6791</td>\n",
       "      <td>6791</td>\n",
       "    </tr>\n",
       "    <tr>\n",
       "      <th>76.185.145.231</th>\n",
       "      <td>4754</td>\n",
       "      <td>4754</td>\n",
       "      <td>4754</td>\n",
       "      <td>4754</td>\n",
       "      <td>4754</td>\n",
       "    </tr>\n",
       "    <tr>\n",
       "      <th>12.106.208.194</th>\n",
       "      <td>4360</td>\n",
       "      <td>4360</td>\n",
       "      <td>4360</td>\n",
       "      <td>4360</td>\n",
       "      <td>4343</td>\n",
       "    </tr>\n",
       "    <tr>\n",
       "      <th>67.11.50.23</th>\n",
       "      <td>4181</td>\n",
       "      <td>4181</td>\n",
       "      <td>4181</td>\n",
       "      <td>4181</td>\n",
       "      <td>4181</td>\n",
       "    </tr>\n",
       "    <tr>\n",
       "      <th>70.112.179.142</th>\n",
       "      <td>4117</td>\n",
       "      <td>4117</td>\n",
       "      <td>4117</td>\n",
       "      <td>4117</td>\n",
       "      <td>4117</td>\n",
       "    </tr>\n",
       "    <tr>\n",
       "      <th>70.121.183.95</th>\n",
       "      <td>3843</td>\n",
       "      <td>3843</td>\n",
       "      <td>3843</td>\n",
       "      <td>3843</td>\n",
       "      <td>3843</td>\n",
       "    </tr>\n",
       "    <tr>\n",
       "      <th>172.124.67.93</th>\n",
       "      <td>3511</td>\n",
       "      <td>3511</td>\n",
       "      <td>3511</td>\n",
       "      <td>3511</td>\n",
       "      <td>3511</td>\n",
       "    </tr>\n",
       "  </tbody>\n",
       "</table>\n",
       "</div>"
      ],
      "text/plain": [
       "                   date    time    page      id  cohort\n",
       "ip                                                     \n",
       "97.105.19.58     284579  284579  284579  284579  268648\n",
       "97.105.19.61      61662   61662   61662   61662   60530\n",
       "192.171.117.210    9515    9515    9515    9515    9124\n",
       "71.150.217.33      6791    6791    6791    6791    6791\n",
       "76.185.145.231     4754    4754    4754    4754    4754\n",
       "12.106.208.194     4360    4360    4360    4360    4343\n",
       "67.11.50.23        4181    4181    4181    4181    4181\n",
       "70.112.179.142     4117    4117    4117    4117    4117\n",
       "70.121.183.95      3843    3843    3843    3843    3843\n",
       "172.124.67.93      3511    3511    3511    3511    3511"
      ]
     },
     "execution_count": 6,
     "metadata": {},
     "output_type": "execute_result"
    }
   ],
   "source": [
    "df.groupby('ip').count().sort_values('date', ascending=False).head(10)"
   ]
  },
  {
   "cell_type": "code",
   "execution_count": 7,
   "id": "6552cbe8",
   "metadata": {
    "scrolled": false
   },
   "outputs": [
    {
     "data": {
      "image/png": "[encoded data removed]",
      "text/plain": [
       "<Figure size 1152x648 with 1 Axes>"
      ]
     },
     "metadata": {
      "needs_background": "light"
     },
     "output_type": "display_data"
    }
   ],
   "source": [
    "plt.figure(figsize=(16,9))\n",
    "df.groupby('ip').count().date.plot()\n",
    "plt.xlabel('Count')\n",
    "plt.xlabel('IP Address')\n",
    "plt.title('Frequency of IP Address Activity')\n",
    "plt.show()"
   ]
  },
  {
   "cell_type": "markdown",
   "id": "dc5fa316",
   "metadata": {},
   "source": [
    "#### A few address are clearly more active than others"
   ]
  },
  {
   "cell_type": "markdown",
   "id": "07861aa5",
   "metadata": {},
   "source": [
    "---"
   ]
  },
  {
   "cell_type": "markdown",
   "id": "5bcdc2da",
   "metadata": {},
   "source": [
    "## Combine both Dataframes"
   ]
  },
  {
   "cell_type": "code",
   "execution_count": 8,
   "id": "02d6cb4a",
   "metadata": {},
   "outputs": [],
   "source": [
    "df2 = prep_cohort(df2)"
   ]
  },
  {
   "cell_type": "code",
   "execution_count": 9,
   "id": "770a62d3",
   "metadata": {
    "scrolled": true
   },
   "outputs": [
    {
     "data": {
      "text/html": [
       "<div>\n",
       "<style scoped>\n",
       "    .dataframe tbody tr th:only-of-type {\n",
       "        vertical-align: middle;\n",
       "    }\n",
       "\n",
       "    .dataframe tbody tr th {\n",
       "        vertical-align: top;\n",
       "    }\n",
       "\n",
       "    .dataframe thead th {\n",
       "        text-align: right;\n",
       "    }\n",
       "</style>\n",
       "<table border=\"1\" class=\"dataframe\">\n",
       "  <thead>\n",
       "    <tr style=\"text-align: right;\">\n",
       "      <th></th>\n",
       "      <th>date</th>\n",
       "      <th>time</th>\n",
       "      <th>page</th>\n",
       "      <th>id</th>\n",
       "      <th>cohort</th>\n",
       "      <th>ip</th>\n",
       "      <th>name</th>\n",
       "      <th>start_date</th>\n",
       "      <th>end_date</th>\n",
       "      <th>program_id</th>\n",
       "    </tr>\n",
       "  </thead>\n",
       "  <tbody>\n",
       "    <tr>\n",
       "      <th>24364</th>\n",
       "      <td>2018-01-30</td>\n",
       "      <td>17:40:15</td>\n",
       "      <td>/</td>\n",
       "      <td>72.0</td>\n",
       "      <td>15.0</td>\n",
       "      <td>108.248.9.192</td>\n",
       "      <td>Mammoth</td>\n",
       "      <td>2016-09-26</td>\n",
       "      <td>2017-02-02</td>\n",
       "      <td>2</td>\n",
       "    </tr>\n",
       "    <tr>\n",
       "      <th>24365</th>\n",
       "      <td>2018-01-30</td>\n",
       "      <td>17:40:21</td>\n",
       "      <td>spring</td>\n",
       "      <td>72.0</td>\n",
       "      <td>15.0</td>\n",
       "      <td>108.248.9.192</td>\n",
       "      <td>Mammoth</td>\n",
       "      <td>2016-09-26</td>\n",
       "      <td>2017-02-02</td>\n",
       "      <td>2</td>\n",
       "    </tr>\n",
       "    <tr>\n",
       "      <th>24366</th>\n",
       "      <td>2018-01-30</td>\n",
       "      <td>17:40:24</td>\n",
       "      <td>spring/fundamentals/controllers</td>\n",
       "      <td>72.0</td>\n",
       "      <td>15.0</td>\n",
       "      <td>108.248.9.192</td>\n",
       "      <td>Mammoth</td>\n",
       "      <td>2016-09-26</td>\n",
       "      <td>2017-02-02</td>\n",
       "      <td>2</td>\n",
       "    </tr>\n",
       "    <tr>\n",
       "      <th>24367</th>\n",
       "      <td>2018-01-30</td>\n",
       "      <td>17:40:54</td>\n",
       "      <td>spring/fundamentals/views</td>\n",
       "      <td>72.0</td>\n",
       "      <td>15.0</td>\n",
       "      <td>108.248.9.192</td>\n",
       "      <td>Mammoth</td>\n",
       "      <td>2016-09-26</td>\n",
       "      <td>2017-02-02</td>\n",
       "      <td>2</td>\n",
       "    </tr>\n",
       "    <tr>\n",
       "      <th>24368</th>\n",
       "      <td>2018-01-30</td>\n",
       "      <td>17:41:02</td>\n",
       "      <td>spring/fundamentals/controllers</td>\n",
       "      <td>72.0</td>\n",
       "      <td>15.0</td>\n",
       "      <td>108.248.9.192</td>\n",
       "      <td>Mammoth</td>\n",
       "      <td>2016-09-26</td>\n",
       "      <td>2017-02-02</td>\n",
       "      <td>2</td>\n",
       "    </tr>\n",
       "    <tr>\n",
       "      <th>...</th>\n",
       "      <td>...</td>\n",
       "      <td>...</td>\n",
       "      <td>...</td>\n",
       "      <td>...</td>\n",
       "      <td>...</td>\n",
       "      <td>...</td>\n",
       "      <td>...</td>\n",
       "      <td>...</td>\n",
       "      <td>...</td>\n",
       "      <td>...</td>\n",
       "    </tr>\n",
       "    <tr>\n",
       "      <th>847331</th>\n",
       "      <td>2021-04-21</td>\n",
       "      <td>12:13:18</td>\n",
       "      <td>javascript-i/testing-user-functions</td>\n",
       "      <td>969.0</td>\n",
       "      <td>139.0</td>\n",
       "      <td>107.77.169.64</td>\n",
       "      <td>Oberon</td>\n",
       "      <td>2021-04-12</td>\n",
       "      <td>2021-10-01</td>\n",
       "      <td>2</td>\n",
       "    </tr>\n",
       "    <tr>\n",
       "      <th>847332</th>\n",
       "      <td>2021-04-21</td>\n",
       "      <td>12:31:48</td>\n",
       "      <td>javascript-i</td>\n",
       "      <td>969.0</td>\n",
       "      <td>139.0</td>\n",
       "      <td>107.77.169.64</td>\n",
       "      <td>Oberon</td>\n",
       "      <td>2021-04-12</td>\n",
       "      <td>2021-10-01</td>\n",
       "      <td>2</td>\n",
       "    </tr>\n",
       "    <tr>\n",
       "      <th>847333</th>\n",
       "      <td>2021-04-21</td>\n",
       "      <td>12:31:58</td>\n",
       "      <td>javascript-i/javascript-with-html</td>\n",
       "      <td>969.0</td>\n",
       "      <td>139.0</td>\n",
       "      <td>107.77.169.64</td>\n",
       "      <td>Oberon</td>\n",
       "      <td>2021-04-12</td>\n",
       "      <td>2021-10-01</td>\n",
       "      <td>2</td>\n",
       "    </tr>\n",
       "    <tr>\n",
       "      <th>847334</th>\n",
       "      <td>2021-04-21</td>\n",
       "      <td>12:32:01</td>\n",
       "      <td>javascript-i/testing-user-functions</td>\n",
       "      <td>969.0</td>\n",
       "      <td>139.0</td>\n",
       "      <td>107.77.169.64</td>\n",
       "      <td>Oberon</td>\n",
       "      <td>2021-04-12</td>\n",
       "      <td>2021-10-01</td>\n",
       "      <td>2</td>\n",
       "    </tr>\n",
       "    <tr>\n",
       "      <th>847335</th>\n",
       "      <td>2021-04-21</td>\n",
       "      <td>13:14:10</td>\n",
       "      <td>/</td>\n",
       "      <td>970.0</td>\n",
       "      <td>139.0</td>\n",
       "      <td>172.56.14.200</td>\n",
       "      <td>Oberon</td>\n",
       "      <td>2021-04-12</td>\n",
       "      <td>2021-10-01</td>\n",
       "      <td>2</td>\n",
       "    </tr>\n",
       "  </tbody>\n",
       "</table>\n",
       "<p>816781 rows × 10 columns</p>\n",
       "</div>"
      ],
      "text/plain": [
       "              date      time                                 page     id  \\\n",
       "24364   2018-01-30  17:40:15                                    /   72.0   \n",
       "24365   2018-01-30  17:40:21                               spring   72.0   \n",
       "24366   2018-01-30  17:40:24      spring/fundamentals/controllers   72.0   \n",
       "24367   2018-01-30  17:40:54            spring/fundamentals/views   72.0   \n",
       "24368   2018-01-30  17:41:02      spring/fundamentals/controllers   72.0   \n",
       "...            ...       ...                                  ...    ...   \n",
       "847331  2021-04-21  12:13:18  javascript-i/testing-user-functions  969.0   \n",
       "847332  2021-04-21  12:31:48                         javascript-i  969.0   \n",
       "847333  2021-04-21  12:31:58    javascript-i/javascript-with-html  969.0   \n",
       "847334  2021-04-21  12:32:01  javascript-i/testing-user-functions  969.0   \n",
       "847335  2021-04-21  13:14:10                                    /  970.0   \n",
       "\n",
       "        cohort             ip     name start_date   end_date  program_id  \n",
       "24364     15.0  108.248.9.192  Mammoth 2016-09-26 2017-02-02           2  \n",
       "24365     15.0  108.248.9.192  Mammoth 2016-09-26 2017-02-02           2  \n",
       "24366     15.0  108.248.9.192  Mammoth 2016-09-26 2017-02-02           2  \n",
       "24367     15.0  108.248.9.192  Mammoth 2016-09-26 2017-02-02           2  \n",
       "24368     15.0  108.248.9.192  Mammoth 2016-09-26 2017-02-02           2  \n",
       "...        ...            ...      ...        ...        ...         ...  \n",
       "847331   139.0  107.77.169.64   Oberon 2021-04-12 2021-10-01           2  \n",
       "847332   139.0  107.77.169.64   Oberon 2021-04-12 2021-10-01           2  \n",
       "847333   139.0  107.77.169.64   Oberon 2021-04-12 2021-10-01           2  \n",
       "847334   139.0  107.77.169.64   Oberon 2021-04-12 2021-10-01           2  \n",
       "847335   139.0  172.56.14.200   Oberon 2021-04-12 2021-10-01           2  \n",
       "\n",
       "[816781 rows x 10 columns]"
      ]
     },
     "execution_count": 9,
     "metadata": {},
     "output_type": "execute_result"
    }
   ],
   "source": [
    "merge = pd.merge(df,df2, how='right')\n",
    "# Program 1 and 4 no longer exists and is a small portion of the data\n",
    "merge = merge[(merge.program_id != 1)&(merge.program_id != 4)]\n",
    "merge"
   ]
  },
  {
   "cell_type": "markdown",
   "id": "ccb07901",
   "metadata": {},
   "source": [
    "### 1. Which lesson appears to attract the most traffic consistently across cohorts (per program)?"
   ]
  },
  {
   "cell_type": "code",
   "execution_count": 10,
   "id": "33b5362d",
   "metadata": {
    "scrolled": false
   },
   "outputs": [
    {
     "name": "stdout",
     "output_type": "stream",
     "text": [
      "Program: 2\n",
      "                          program_id\n",
      "page                                \n",
      "/                              35814\n",
      "javascript-i                   17457\n",
      "toc                            17428\n",
      "search/search_index.json       15212\n",
      "java-iii                       12683\n",
      "html-css                       12569\n",
      "java-ii                        11719\n",
      "spring                         11376\n",
      "jquery                         10693\n",
      "mysql                          10318\n",
      "---\n",
      "Program: 3\n",
      "                                          program_id\n",
      "page                                                \n",
      "/                                               8358\n",
      "search/search_index.json                        2203\n",
      "classification/overview                         1785\n",
      "1-fundamentals/modern-data-scientist.jpg        1655\n",
      "1-fundamentals/AI-ML-DL-timeline.jpg            1651\n",
      "1-fundamentals/1.1-intro-to-data-science        1633\n",
      "classification/scale_features_or_not.svg        1590\n",
      "fundamentals/AI-ML-DL-timeline.jpg              1443\n",
      "fundamentals/modern-data-scientist.jpg          1438\n",
      "sql/mysql-overview                              1424\n",
      "---\n"
     ]
    }
   ],
   "source": [
    "# Program and top 10 visited subjects\n",
    "most_pop(merge)"
   ]
  },
  {
   "cell_type": "markdown",
   "id": "4dc7f6ae",
   "metadata": {},
   "source": [
    "#### Web Development review more often Java, Javascript, Spring, and HTML-CSS while Data Science students tend to look at Data Science Fundamentals alot"
   ]
  },
  {
   "cell_type": "markdown",
   "id": "0efed2ce",
   "metadata": {},
   "source": [
    "---"
   ]
  },
  {
   "cell_type": "markdown",
   "id": "7b723f8c",
   "metadata": {},
   "source": [
    "### 2. Is there a cohort that referred to a lesson significantly more than other cohorts seemed to gloss over?"
   ]
  },
  {
   "cell_type": "code",
   "execution_count": 11,
   "id": "e5b2cb4d",
   "metadata": {},
   "outputs": [
    {
     "name": "stdout",
     "output_type": "stream",
     "text": [
      "30.0\n",
      "Empty DataFrame\n",
      "Columns: [cohort]\n",
      "Index: []\n",
      "---\n",
      "34.0\n",
      "                                          cohort\n",
      "page                                            \n",
      "/                                           1967\n",
      "1-fundamentals/modern-data-scientist.jpg     650\n",
      "1-fundamentals/AI-ML-DL-timeline.jpg         648\n",
      "1-fundamentals/1.1-intro-to-data-science     640\n",
      "search/search_index.json                     588\n",
      "---\n",
      "55.0\n",
      "                                          cohort\n",
      "page                                            \n",
      "/                                           1712\n",
      "6-regression/1-overview                      595\n",
      "search/search_index.json                     538\n",
      "1-fundamentals/modern-data-scientist.jpg     467\n",
      "1-fundamentals/AI-ML-DL-timeline.jpg         465\n",
      "---\n",
      "59.0\n",
      "                                          cohort\n",
      "page                                            \n",
      "/                                           2980\n",
      "classification/overview                     1109\n",
      "classification/scale_features_or_not.svg     943\n",
      "sql/mysql-overview                           774\n",
      "search/search_index.json                     664\n",
      "---\n",
      "133.0\n",
      "                                                    cohort\n",
      "page                                                      \n",
      "/                                                     1115\n",
      "classification/scale_features_or_not.svg               463\n",
      "classification/overview                                445\n",
      "classification/classical_programming_vs_machine...     432\n",
      "fundamentals/AI-ML-DL-timeline.jpg                     381\n",
      "---\n",
      "137.0\n",
      "                                        cohort\n",
      "page                                          \n",
      "fundamentals/modern-data-scientist.jpg     627\n",
      "fundamentals/AI-ML-DL-timeline.jpg         624\n",
      "fundamentals/intro-to-data-science         615\n",
      "/                                          584\n",
      "python/data-types-and-variables            258\n",
      "---\n"
     ]
    }
   ],
   "source": [
    "for coh in merge[merge.program_id == 3].cohort.value_counts().index.sort_values():\n",
    "    print(f'{coh}')\n",
    "    print(merge[merge.cohort == coh][['cohort','page']].groupby('page').count().sort_values('cohort', ascending=False).head())\n",
    "    print('---')"
   ]
  },
  {
   "cell_type": "markdown",
   "id": "c5180b92",
   "metadata": {},
   "source": [
    "#### Curie's second most popular topic was regression, which is not seen with any other cohort"
   ]
  },
  {
   "cell_type": "code",
   "execution_count": 12,
   "id": "4d997256",
   "metadata": {
    "scrolled": true
   },
   "outputs": [],
   "source": [
    "%%capture\n",
    "for coh in merge.cohort.value_counts().index.sort_values():\n",
    "    print(f'{coh}: Program {merge[merge.cohort == coh].program_id.mean()}')\n",
    "    # Printing the 10 most visited pages by cohort\n",
    "    print(merge[merge.cohort == coh][['cohort','page']].groupby('page').count().sort_values('cohort', ascending=False).head(4))\n",
    "    print('---')"
   ]
  },
  {
   "cell_type": "markdown",
   "id": "6ad0d6db",
   "metadata": {},
   "source": [
    "---"
   ]
  },
  {
   "cell_type": "markdown",
   "id": "c9ba62e0",
   "metadata": {},
   "source": [
    "### 3. Are there students who, when active, hardly access the curriculum? If so, what information do you have about these students?"
   ]
  },
  {
   "cell_type": "code",
   "execution_count": 19,
   "id": "77c69dd5",
   "metadata": {},
   "outputs": [
    {
     "name": "stdout",
     "output_type": "stream",
     "text": [
      "ID: 165.0\n",
      "1\n",
      "---\n",
      "ID: 592.0\n",
      "1\n",
      "---\n",
      "ID: 619.0\n",
      "1\n",
      "---\n",
      "ID: 652.0\n",
      "1\n",
      "---\n",
      "ID: 879.0\n",
      "1\n",
      "---\n",
      "ID: 918.0\n",
      "1\n",
      "---\n",
      "ID: 940.0\n",
      "1\n",
      "---\n"
     ]
    }
   ],
   "source": [
    "for val in merge.id.value_counts().index.sort_values():\n",
    "    if (len(merge[merge.id == val]) < 2):\n",
    "        print(f'ID: {val}')\n",
    "        print(len(merge[merge.id == val]))\n",
    "        print('---')"
   ]
  },
  {
   "cell_type": "code",
   "execution_count": 20,
   "id": "01e58bf4",
   "metadata": {
    "scrolled": true
   },
   "outputs": [
    {
     "data": {
      "text/html": [
       "<div>\n",
       "<style scoped>\n",
       "    .dataframe tbody tr th:only-of-type {\n",
       "        vertical-align: middle;\n",
       "    }\n",
       "\n",
       "    .dataframe tbody tr th {\n",
       "        vertical-align: top;\n",
       "    }\n",
       "\n",
       "    .dataframe thead th {\n",
       "        text-align: right;\n",
       "    }\n",
       "</style>\n",
       "<table border=\"1\" class=\"dataframe\">\n",
       "  <thead>\n",
       "    <tr style=\"text-align: right;\">\n",
       "      <th></th>\n",
       "      <th>date</th>\n",
       "      <th>time</th>\n",
       "      <th>page</th>\n",
       "      <th>id</th>\n",
       "      <th>cohort</th>\n",
       "      <th>ip</th>\n",
       "      <th>name</th>\n",
       "      <th>start_date</th>\n",
       "      <th>end_date</th>\n",
       "      <th>program_id</th>\n",
       "    </tr>\n",
       "  </thead>\n",
       "  <tbody>\n",
       "    <tr>\n",
       "      <th>25316</th>\n",
       "      <td>2018-03-30</td>\n",
       "      <td>21:37:04</td>\n",
       "      <td>index.html</td>\n",
       "      <td>165.0</td>\n",
       "      <td>16.0</td>\n",
       "      <td>24.243.3.200</td>\n",
       "      <td>Niagara</td>\n",
       "      <td>2016-10-26</td>\n",
       "      <td>2017-03-09</td>\n",
       "      <td>2</td>\n",
       "    </tr>\n",
       "  </tbody>\n",
       "</table>\n",
       "</div>"
      ],
      "text/plain": [
       "             date      time        page     id  cohort            ip     name  \\\n",
       "25316  2018-03-30  21:37:04  index.html  165.0    16.0  24.243.3.200  Niagara   \n",
       "\n",
       "      start_date   end_date  program_id  \n",
       "25316 2016-10-26 2017-03-09           2  "
      ]
     },
     "execution_count": 20,
     "metadata": {},
     "output_type": "execute_result"
    }
   ],
   "source": [
    "merge[merge.id == 165]"
   ]
  },
  {
   "cell_type": "code",
   "execution_count": 21,
   "id": "31cd3ae2",
   "metadata": {},
   "outputs": [
    {
     "data": {
      "text/html": [
       "<div>\n",
       "<style scoped>\n",
       "    .dataframe tbody tr th:only-of-type {\n",
       "        vertical-align: middle;\n",
       "    }\n",
       "\n",
       "    .dataframe tbody tr th {\n",
       "        vertical-align: top;\n",
       "    }\n",
       "\n",
       "    .dataframe thead th {\n",
       "        text-align: right;\n",
       "    }\n",
       "</style>\n",
       "<table border=\"1\" class=\"dataframe\">\n",
       "  <thead>\n",
       "    <tr style=\"text-align: right;\">\n",
       "      <th></th>\n",
       "      <th>date</th>\n",
       "      <th>time</th>\n",
       "      <th>page</th>\n",
       "      <th>id</th>\n",
       "      <th>cohort</th>\n",
       "      <th>ip</th>\n",
       "      <th>name</th>\n",
       "      <th>start_date</th>\n",
       "      <th>end_date</th>\n",
       "      <th>program_id</th>\n",
       "    </tr>\n",
       "  </thead>\n",
       "  <tbody>\n",
       "    <tr>\n",
       "      <th>236419</th>\n",
       "      <td>2020-02-07</td>\n",
       "      <td>12:17:45</td>\n",
       "      <td>/</td>\n",
       "      <td>592.0</td>\n",
       "      <td>28.0</td>\n",
       "      <td>97.105.19.58</td>\n",
       "      <td>Staff</td>\n",
       "      <td>2014-02-04</td>\n",
       "      <td>2014-02-04</td>\n",
       "      <td>2</td>\n",
       "    </tr>\n",
       "  </tbody>\n",
       "</table>\n",
       "</div>"
      ],
      "text/plain": [
       "              date      time page     id  cohort            ip   name  \\\n",
       "236419  2020-02-07  12:17:45    /  592.0    28.0  97.105.19.58  Staff   \n",
       "\n",
       "       start_date   end_date  program_id  \n",
       "236419 2014-02-04 2014-02-04           2  "
      ]
     },
     "execution_count": 21,
     "metadata": {},
     "output_type": "execute_result"
    }
   ],
   "source": [
    "merge[merge.id == 592]"
   ]
  },
  {
   "cell_type": "code",
   "execution_count": 22,
   "id": "83c58338",
   "metadata": {},
   "outputs": [
    {
     "data": {
      "text/html": [
       "<div>\n",
       "<style scoped>\n",
       "    .dataframe tbody tr th:only-of-type {\n",
       "        vertical-align: middle;\n",
       "    }\n",
       "\n",
       "    .dataframe tbody tr th {\n",
       "        vertical-align: top;\n",
       "    }\n",
       "\n",
       "    .dataframe thead th {\n",
       "        text-align: right;\n",
       "    }\n",
       "</style>\n",
       "<table border=\"1\" class=\"dataframe\">\n",
       "  <thead>\n",
       "    <tr style=\"text-align: right;\">\n",
       "      <th></th>\n",
       "      <th>date</th>\n",
       "      <th>time</th>\n",
       "      <th>page</th>\n",
       "      <th>id</th>\n",
       "      <th>cohort</th>\n",
       "      <th>ip</th>\n",
       "      <th>name</th>\n",
       "      <th>start_date</th>\n",
       "      <th>end_date</th>\n",
       "      <th>program_id</th>\n",
       "    </tr>\n",
       "  </thead>\n",
       "  <tbody>\n",
       "    <tr>\n",
       "      <th>607862</th>\n",
       "      <td>2020-03-23</td>\n",
       "      <td>14:10:17</td>\n",
       "      <td>/</td>\n",
       "      <td>619.0</td>\n",
       "      <td>57.0</td>\n",
       "      <td>97.105.19.58</td>\n",
       "      <td>Ganymede</td>\n",
       "      <td>2020-03-23</td>\n",
       "      <td>2020-08-20</td>\n",
       "      <td>2</td>\n",
       "    </tr>\n",
       "  </tbody>\n",
       "</table>\n",
       "</div>"
      ],
      "text/plain": [
       "              date      time page     id  cohort            ip      name  \\\n",
       "607862  2020-03-23  14:10:17    /  619.0    57.0  97.105.19.58  Ganymede   \n",
       "\n",
       "       start_date   end_date  program_id  \n",
       "607862 2020-03-23 2020-08-20           2  "
      ]
     },
     "execution_count": 22,
     "metadata": {},
     "output_type": "execute_result"
    }
   ],
   "source": [
    "merge[merge.id == 619]"
   ]
  },
  {
   "cell_type": "code",
   "execution_count": 23,
   "id": "f14910a2",
   "metadata": {},
   "outputs": [
    {
     "data": {
      "text/html": [
       "<div>\n",
       "<style scoped>\n",
       "    .dataframe tbody tr th:only-of-type {\n",
       "        vertical-align: middle;\n",
       "    }\n",
       "\n",
       "    .dataframe tbody tr th {\n",
       "        vertical-align: top;\n",
       "    }\n",
       "\n",
       "    .dataframe thead th {\n",
       "        text-align: right;\n",
       "    }\n",
       "</style>\n",
       "<table border=\"1\" class=\"dataframe\">\n",
       "  <thead>\n",
       "    <tr style=\"text-align: right;\">\n",
       "      <th></th>\n",
       "      <th>date</th>\n",
       "      <th>time</th>\n",
       "      <th>page</th>\n",
       "      <th>id</th>\n",
       "      <th>cohort</th>\n",
       "      <th>ip</th>\n",
       "      <th>name</th>\n",
       "      <th>start_date</th>\n",
       "      <th>end_date</th>\n",
       "      <th>program_id</th>\n",
       "    </tr>\n",
       "  </thead>\n",
       "  <tbody>\n",
       "    <tr>\n",
       "      <th>248306</th>\n",
       "      <td>2020-05-18</td>\n",
       "      <td>09:56:10</td>\n",
       "      <td>loguout</td>\n",
       "      <td>652.0</td>\n",
       "      <td>28.0</td>\n",
       "      <td>71.150.217.33</td>\n",
       "      <td>Staff</td>\n",
       "      <td>2014-02-04</td>\n",
       "      <td>2014-02-04</td>\n",
       "      <td>2</td>\n",
       "    </tr>\n",
       "  </tbody>\n",
       "</table>\n",
       "</div>"
      ],
      "text/plain": [
       "              date      time     page     id  cohort             ip   name  \\\n",
       "248306  2020-05-18  09:56:10  loguout  652.0    28.0  71.150.217.33  Staff   \n",
       "\n",
       "       start_date   end_date  program_id  \n",
       "248306 2014-02-04 2014-02-04           2  "
      ]
     },
     "execution_count": 23,
     "metadata": {},
     "output_type": "execute_result"
    }
   ],
   "source": [
    "merge[merge.id == 652]"
   ]
  },
  {
   "cell_type": "code",
   "execution_count": 24,
   "id": "f82653df",
   "metadata": {},
   "outputs": [
    {
     "data": {
      "text/html": [
       "<div>\n",
       "<style scoped>\n",
       "    .dataframe tbody tr th:only-of-type {\n",
       "        vertical-align: middle;\n",
       "    }\n",
       "\n",
       "    .dataframe tbody tr th {\n",
       "        vertical-align: top;\n",
       "    }\n",
       "\n",
       "    .dataframe thead th {\n",
       "        text-align: right;\n",
       "    }\n",
       "</style>\n",
       "<table border=\"1\" class=\"dataframe\">\n",
       "  <thead>\n",
       "    <tr style=\"text-align: right;\">\n",
       "      <th></th>\n",
       "      <th>date</th>\n",
       "      <th>time</th>\n",
       "      <th>page</th>\n",
       "      <th>id</th>\n",
       "      <th>cohort</th>\n",
       "      <th>ip</th>\n",
       "      <th>name</th>\n",
       "      <th>start_date</th>\n",
       "      <th>end_date</th>\n",
       "      <th>program_id</th>\n",
       "    </tr>\n",
       "  </thead>\n",
       "  <tbody>\n",
       "    <tr>\n",
       "      <th>813453</th>\n",
       "      <td>2021-01-26</td>\n",
       "      <td>12:21:18</td>\n",
       "      <td>/</td>\n",
       "      <td>879.0</td>\n",
       "      <td>135.0</td>\n",
       "      <td>136.50.50.187</td>\n",
       "      <td>Marco</td>\n",
       "      <td>2021-01-25</td>\n",
       "      <td>2021-07-19</td>\n",
       "      <td>2</td>\n",
       "    </tr>\n",
       "  </tbody>\n",
       "</table>\n",
       "</div>"
      ],
      "text/plain": [
       "              date      time page     id  cohort             ip   name  \\\n",
       "813453  2021-01-26  12:21:18    /  879.0   135.0  136.50.50.187  Marco   \n",
       "\n",
       "       start_date   end_date  program_id  \n",
       "813453 2021-01-25 2021-07-19           2  "
      ]
     },
     "execution_count": 24,
     "metadata": {},
     "output_type": "execute_result"
    }
   ],
   "source": [
    "merge[merge.id == 879]"
   ]
  },
  {
   "cell_type": "code",
   "execution_count": 25,
   "id": "1435da42",
   "metadata": {},
   "outputs": [
    {
     "data": {
      "text/html": [
       "<div>\n",
       "<style scoped>\n",
       "    .dataframe tbody tr th:only-of-type {\n",
       "        vertical-align: middle;\n",
       "    }\n",
       "\n",
       "    .dataframe tbody tr th {\n",
       "        vertical-align: top;\n",
       "    }\n",
       "\n",
       "    .dataframe thead th {\n",
       "        text-align: right;\n",
       "    }\n",
       "</style>\n",
       "<table border=\"1\" class=\"dataframe\">\n",
       "  <thead>\n",
       "    <tr style=\"text-align: right;\">\n",
       "      <th></th>\n",
       "      <th>date</th>\n",
       "      <th>time</th>\n",
       "      <th>page</th>\n",
       "      <th>id</th>\n",
       "      <th>cohort</th>\n",
       "      <th>ip</th>\n",
       "      <th>name</th>\n",
       "      <th>start_date</th>\n",
       "      <th>end_date</th>\n",
       "      <th>program_id</th>\n",
       "    </tr>\n",
       "  </thead>\n",
       "  <tbody>\n",
       "    <tr>\n",
       "      <th>838397</th>\n",
       "      <td>2021-03-15</td>\n",
       "      <td>16:59:56</td>\n",
       "      <td>/</td>\n",
       "      <td>918.0</td>\n",
       "      <td>138.0</td>\n",
       "      <td>71.221.46.112</td>\n",
       "      <td>Neptune</td>\n",
       "      <td>2021-03-15</td>\n",
       "      <td>2021-09-03</td>\n",
       "      <td>2</td>\n",
       "    </tr>\n",
       "  </tbody>\n",
       "</table>\n",
       "</div>"
      ],
      "text/plain": [
       "              date      time page     id  cohort             ip     name  \\\n",
       "838397  2021-03-15  16:59:56    /  918.0   138.0  71.221.46.112  Neptune   \n",
       "\n",
       "       start_date   end_date  program_id  \n",
       "838397 2021-03-15 2021-09-03           2  "
      ]
     },
     "execution_count": 25,
     "metadata": {},
     "output_type": "execute_result"
    }
   ],
   "source": [
    "merge[merge.id == 918]"
   ]
  },
  {
   "cell_type": "code",
   "execution_count": 26,
   "id": "42fa3253",
   "metadata": {},
   "outputs": [
    {
     "data": {
      "text/html": [
       "<div>\n",
       "<style scoped>\n",
       "    .dataframe tbody tr th:only-of-type {\n",
       "        vertical-align: middle;\n",
       "    }\n",
       "\n",
       "    .dataframe tbody tr th {\n",
       "        vertical-align: top;\n",
       "    }\n",
       "\n",
       "    .dataframe thead th {\n",
       "        text-align: right;\n",
       "    }\n",
       "</style>\n",
       "<table border=\"1\" class=\"dataframe\">\n",
       "  <thead>\n",
       "    <tr style=\"text-align: right;\">\n",
       "      <th></th>\n",
       "      <th>date</th>\n",
       "      <th>time</th>\n",
       "      <th>page</th>\n",
       "      <th>id</th>\n",
       "      <th>cohort</th>\n",
       "      <th>ip</th>\n",
       "      <th>name</th>\n",
       "      <th>start_date</th>\n",
       "      <th>end_date</th>\n",
       "      <th>program_id</th>\n",
       "    </tr>\n",
       "  </thead>\n",
       "  <tbody>\n",
       "    <tr>\n",
       "      <th>838427</th>\n",
       "      <td>2021-03-15</td>\n",
       "      <td>17:00:37</td>\n",
       "      <td>/</td>\n",
       "      <td>940.0</td>\n",
       "      <td>138.0</td>\n",
       "      <td>70.121.129.79</td>\n",
       "      <td>Neptune</td>\n",
       "      <td>2021-03-15</td>\n",
       "      <td>2021-09-03</td>\n",
       "      <td>2</td>\n",
       "    </tr>\n",
       "  </tbody>\n",
       "</table>\n",
       "</div>"
      ],
      "text/plain": [
       "              date      time page     id  cohort             ip     name  \\\n",
       "838427  2021-03-15  17:00:37    /  940.0   138.0  70.121.129.79  Neptune   \n",
       "\n",
       "       start_date   end_date  program_id  \n",
       "838427 2021-03-15 2021-09-03           2  "
      ]
     },
     "execution_count": 26,
     "metadata": {},
     "output_type": "execute_result"
    }
   ],
   "source": [
    "merge[merge.id == 940]"
   ]
  },
  {
   "cell_type": "markdown",
   "id": "a2da0f26",
   "metadata": {},
   "source": [
    "#### Student ID's 165, 592, 619, 652, 879, 918, 940 all come from the Web-Dev Program and only logged once on page \"/\", \"logout, or \"index.html"
   ]
  },
  {
   "cell_type": "markdown",
   "id": "2332d18f",
   "metadata": {},
   "source": [
    "---"
   ]
  },
  {
   "cell_type": "markdown",
   "id": "0465b3ff",
   "metadata": {},
   "source": [
    "### 5. At some point in 2019, the ability for students and alumni to access both curriculums (web dev to ds, ds to web dev) should have been shut off. Do you see any evidence of that happening? Did it happen before?"
   ]
  },
  {
   "cell_type": "code",
   "execution_count": null,
   "id": "da572c47",
   "metadata": {},
   "outputs": [],
   "source": [
    "plt.figure(figsize=(16,9))\n",
    "df.groupby('date').count().ip.plot()\n",
    "plt.ylabel('Count')\n",
    "plt.xlabel('Date')\n",
    "plt.title('Activity by date')\n",
    "plt.show()"
   ]
  },
  {
   "cell_type": "markdown",
   "id": "1940035f",
   "metadata": {},
   "source": [
    "#### It looks like activity dramatically dipped in early 2019 as well as 2020 and 2021"
   ]
  },
  {
   "cell_type": "markdown",
   "id": "c4d7fdf1",
   "metadata": {},
   "source": [
    "---"
   ]
  },
  {
   "cell_type": "markdown",
   "id": "a2997a15",
   "metadata": {},
   "source": [
    "### 6. What topics are grads continuing to reference after graduation and into their jobs (for each program)?"
   ]
  },
  {
   "cell_type": "code",
   "execution_count": null,
   "id": "70e996bd",
   "metadata": {},
   "outputs": [],
   "source": [
    "merge[merge.end_date < merge.date]"
   ]
  },
  {
   "cell_type": "code",
   "execution_count": null,
   "id": "c1ec45b8",
   "metadata": {},
   "outputs": [],
   "source": [
    "for pro in merge[merge.end_date < merge.date].program_id.value_counts().index.sort_values():\n",
    "    print(f'Program: {pro}')\n",
    "    print(merge[merge.program_id == pro][['program_id','page']].groupby('page').count().sort_values('program_id', ascending=False).head(10))\n",
    "    print('---')"
   ]
  },
  {
   "cell_type": "markdown",
   "id": "a2a275ce",
   "metadata": {},
   "source": [
    "#### Web Dev student continue to sharpen their skills in Javascript, Java iii, and HTML-CSS\n",
    "#### DS Students review fundamentals and classification"
   ]
  },
  {
   "cell_type": "markdown",
   "id": "74c4de07",
   "metadata": {},
   "source": [
    "---"
   ]
  },
  {
   "cell_type": "markdown",
   "id": "49bd7079",
   "metadata": {},
   "source": [
    "### 7. Which lessons are least accessed? "
   ]
  },
  {
   "cell_type": "code",
   "execution_count": null,
   "id": "8eb7e3f9",
   "metadata": {},
   "outputs": [],
   "source": [
    "for pro in merge.program_id.value_counts().index.sort_values():\n",
    "    print(f'Program: {pro}')\n",
    "    # Least 5 most visited pages by program\n",
    "    print(merge[merge.program_id == pro][['program_id','page']].groupby('page').count().sort_values('program_id', ascending=False).tail(5))\n",
    "    print('---')"
   ]
  },
  {
   "cell_type": "markdown",
   "id": "1a02f8b3",
   "metadata": {},
   "source": [
    "#### Web Dev least viewed subjects are SQL and PHP, while DS students' are regression, charts and statistics"
   ]
  },
  {
   "cell_type": "markdown",
   "id": "2821c0ea",
   "metadata": {},
   "source": [
    "---"
   ]
  },
  {
   "cell_type": "markdown",
   "id": "3a1156b5",
   "metadata": {},
   "source": [
    "### Additional Info: "
   ]
  },
  {
   "cell_type": "code",
   "execution_count": null,
   "id": "bbbfbc63",
   "metadata": {
    "scrolled": true
   },
   "outputs": [],
   "source": [
    "for coh in merge.cohort.value_counts().index.sort_values():\n",
    "    print(f'Cohort: {coh}')\n",
    "    print(len(merge[merge.cohort ==coh]))\n",
    "    print('---')"
   ]
  },
  {
   "cell_type": "markdown",
   "id": "53c6f322",
   "metadata": {},
   "source": [
    "#### There seems to be missing (or much less of) log data for Mammoth, Redwood, Niagara,  Ada, and Io cohorts"
   ]
  },
  {
   "cell_type": "code",
   "execution_count": null,
   "id": "290f7b35",
   "metadata": {},
   "outputs": [],
   "source": []
  },
  {
   "cell_type": "code",
   "execution_count": null,
   "id": "49226064",
   "metadata": {},
   "outputs": [],
   "source": []
  }
 ],
 "metadata": {
  "kernelspec": {
   "display_name": "Python 3 (ipykernel)",
   "language": "python",
   "name": "python3"
  },
  "language_info": {
   "codemirror_mode": {
    "name": "ipython",
    "version": 3
   },
   "file_extension": ".py",
   "mimetype": "text/x-python",
   "name": "python",
   "nbconvert_exporter": "python",
   "pygments_lexer": "ipython3",
   "version": "3.9.12"
  }
 },
 "nbformat": 4,
 "nbformat_minor": 5
}
